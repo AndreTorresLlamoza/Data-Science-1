{
  "metadata": {
    "kernelspec": {
      "name": "python",
      "display_name": "Python (Pyodide)",
      "language": "python"
    },
    "language_info": {
      "codemirror_mode": {
        "name": "python",
        "version": 3
      },
      "file_extension": ".py",
      "mimetype": "text/x-python",
      "name": "python",
      "nbconvert_exporter": "python",
      "pygments_lexer": "ipython3",
      "version": "3.8"
    }
  },
  "nbformat_minor": 4,
  "nbformat": 4,
  "cells": [
    {
      "cell_type": "markdown",
      "source": "# Data Science Tools and Ecosystem",
      "metadata": {}
    },
    {
      "cell_type": "markdown",
      "source": "# Data Science Tools and Ecosystem",
      "metadata": {}
    },
    {
      "cell_type": "markdown",
      "source": "### In this notebook, Data Science Tools and Ecosystem are summarized.",
      "metadata": {}
    },
    {
      "cell_type": "markdown",
      "source": "### In this notebook, Data Science Tools and Ecosystem are summarized.",
      "metadata": {}
    },
    {
      "cell_type": "markdown",
      "source": "### <b>Objectives:<b>\n - Some of the commonly used libraries used by Data Scientists\n- Some of the popular languages that Data Scientists\n - Data Science Tools",
      "metadata": {}
    },
    {
      "cell_type": "markdown",
      "source": "### <b>Objectives:<b>\n - Some of the commonly used libraries used by Data Scientists\n- Some of the popular languages that Data Scientists\n - Data Science Tools",
      "metadata": {}
    },
    {
      "cell_type": "markdown",
      "source": "### Some of the popular languages that Data Scientists use are:\n1. Python\n2. R\n3. SQL\n4. Scala",
      "metadata": {}
    },
    {
      "cell_type": "markdown",
      "source": "### Some of the popular languages that Data Scientists use are:\n1. Python\n2. R\n3. SQL\n4. Scala",
      "metadata": {}
    },
    {
      "cell_type": "markdown",
      "source": "### Some of the commonly used libraries used by Data Scientists include:\n1. pandas\n2. NumPy: \n3. Scikit-learn",
      "metadata": {}
    },
    {
      "cell_type": "markdown",
      "source": "### Some of the commonly used libraries used by Data Scientists include:\n1. pandas\n2. NumPy: \n3. Scikit-learn",
      "metadata": {}
    },
    {
      "cell_type": "markdown",
      "source": "<table style=\"width:50%\">\n<tr>\n<th>Data Science Tools</th>\n</tr>\n\n<tr>\n<td>1. Jupyter Notebooks</td>\n</tr>\n\n<tr>\n<td>2. RStudio</td>\n</tr>\n\n<tr>\n<td>3. Apache Zeppelin</td>\n</tr>\n</table>",
      "metadata": {}
    },
    {
      "cell_type": "markdown",
      "source": "<table style=\"width:50%\">\n<tr>\n<th>Data Science Tools</th>\n</tr>\n\n<tr>\n<td>1. Jupyter Notebooks</td>\n</tr>\n\n<tr>\n<td>2. RStudio</td>\n</tr>\n\n<tr>\n<td>3. Apache Zeppelin</td>\n</tr>\n</table>",
      "metadata": {}
    },
    {
      "cell_type": "markdown",
      "source": "### Below are a few examples of evaluating arithmetic expressions in Python",
      "metadata": {}
    },
    {
      "cell_type": "markdown",
      "source": "### Below are a few examples of evaluating arithmetic expressions in Python",
      "metadata": {}
    },
    {
      "cell_type": "code",
      "source": "(3*4)+5\n#This a simple arithmetic expression to mutiply then add integers",
      "metadata": {
        "trusted": true
      },
      "outputs": [
        {
          "execution_count": 2,
          "output_type": "execute_result",
          "data": {
            "text/plain": "17"
          },
          "metadata": {}
        }
      ],
      "execution_count": 2
    },
    {
      "cell_type": "code",
      "source": "#his will convert 200 minutes to hours by diving by 60\n200/60",
      "metadata": {
        "trusted": true
      },
      "outputs": [
        {
          "execution_count": 3,
          "output_type": "execute_result",
          "data": {
            "text/plain": "3.3333333333333335"
          },
          "metadata": {}
        }
      ],
      "execution_count": 3
    },
    {
      "cell_type": "markdown",
      "source": "## Author\nAndre Carlos Torres LLamoza",
      "metadata": {}
    },
    {
      "cell_type": "markdown",
      "source": "## Author\nAndre Carlos Torres LLamoza",
      "metadata": {}
    },
    {
      "cell_type": "code",
      "source": "",
      "metadata": {
        "trusted": true
      },
      "outputs": [],
      "execution_count": null
    }
  ]
}